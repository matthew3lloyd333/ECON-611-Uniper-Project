{
 "cells": [
  {
   "cell_type": "code",
   "execution_count": 66,
   "metadata": {},
   "outputs": [
    {
     "data": {
      "text/html": [
       "<div>\n",
       "<style scoped>\n",
       "    .dataframe tbody tr th:only-of-type {\n",
       "        vertical-align: middle;\n",
       "    }\n",
       "\n",
       "    .dataframe tbody tr th {\n",
       "        vertical-align: top;\n",
       "    }\n",
       "\n",
       "    .dataframe thead th {\n",
       "        text-align: right;\n",
       "    }\n",
       "</style>\n",
       "<table border=\"1\" class=\"dataframe\">\n",
       "  <thead>\n",
       "    <tr style=\"text-align: right;\">\n",
       "      <th></th>\n",
       "      <th>Date</th>\n",
       "      <th>Open</th>\n",
       "      <th>High</th>\n",
       "      <th>Low</th>\n",
       "      <th>Close</th>\n",
       "      <th>Adj Close</th>\n",
       "      <th>Volume</th>\n",
       "    </tr>\n",
       "  </thead>\n",
       "  <tbody>\n",
       "    <tr>\n",
       "      <th>0</th>\n",
       "      <td>1/3/2017</td>\n",
       "      <td>15,366.80</td>\n",
       "      <td>15,450.30</td>\n",
       "      <td>15,340.00</td>\n",
       "      <td>15,403.00</td>\n",
       "      <td>15,403.00</td>\n",
       "      <td>201,117,500.00</td>\n",
       "    </tr>\n",
       "    <tr>\n",
       "      <th>1</th>\n",
       "      <td>1/4/2017</td>\n",
       "      <td>15,433.90</td>\n",
       "      <td>15,520.60</td>\n",
       "      <td>15,412.50</td>\n",
       "      <td>15,516.80</td>\n",
       "      <td>15,516.80</td>\n",
       "      <td>215,081,200.00</td>\n",
       "    </tr>\n",
       "    <tr>\n",
       "      <th>2</th>\n",
       "      <td>1/5/2017</td>\n",
       "      <td>15,542.10</td>\n",
       "      <td>15,621.40</td>\n",
       "      <td>15,537.40</td>\n",
       "      <td>15,586.60</td>\n",
       "      <td>15,586.60</td>\n",
       "      <td>247,712,500.00</td>\n",
       "    </tr>\n",
       "    <tr>\n",
       "      <th>3</th>\n",
       "      <td>1/6/2017</td>\n",
       "      <td>15,562.50</td>\n",
       "      <td>15,562.90</td>\n",
       "      <td>15,477.30</td>\n",
       "      <td>15,496.10</td>\n",
       "      <td>15,496.10</td>\n",
       "      <td>198,912,100.00</td>\n",
       "    </tr>\n",
       "    <tr>\n",
       "      <th>4</th>\n",
       "      <td>1/9/2017</td>\n",
       "      <td>15,475.50</td>\n",
       "      <td>15,475.50</td>\n",
       "      <td>15,382.00</td>\n",
       "      <td>15,389.00</td>\n",
       "      <td>15,389.00</td>\n",
       "      <td>186,465,200.00</td>\n",
       "    </tr>\n",
       "  </tbody>\n",
       "</table>\n",
       "</div>"
      ],
      "text/plain": [
       "       Date         Open         High          Low        Close    Adj Close  \\\n",
       "0  1/3/2017   15,366.80    15,450.30    15,340.00    15,403.00    15,403.00    \n",
       "1  1/4/2017   15,433.90    15,520.60    15,412.50    15,516.80    15,516.80    \n",
       "2  1/5/2017   15,542.10    15,621.40    15,537.40    15,586.60    15,586.60    \n",
       "3  1/6/2017   15,562.50    15,562.90    15,477.30    15,496.10    15,496.10    \n",
       "4  1/9/2017   15,475.50    15,475.50    15,382.00    15,389.00    15,389.00    \n",
       "\n",
       "             Volume  \n",
       "0   201,117,500.00   \n",
       "1   215,081,200.00   \n",
       "2   247,712,500.00   \n",
       "3   198,912,100.00   \n",
       "4   186,465,200.00   "
      ]
     },
     "execution_count": 66,
     "metadata": {},
     "output_type": "execute_result"
    }
   ],
   "source": [
    "import pandas as pd \n",
    "df = pd.read_csv('S&P TSX Daily Data.csv')\n",
    "df.head()"
   ]
  },
  {
   "cell_type": "code",
   "execution_count": 67,
   "metadata": {},
   "outputs": [],
   "source": [
    "df.Date = pd.to_datetime(df.Date)\n",
    "\n",
    "df.Open = df.Open.str.replace(',','').astype(float)\n",
    "df.High = df.High.str.replace(',','').astype(float)\n",
    "df.Low = df.Low.str.replace(',','').astype(float)\n",
    "df.Close = df.Close.str.replace(',','').astype(float)\n",
    "df['Adj Close'] = df['Adj Close'].str.replace(',','').astype(float)\n",
    "df.Volume = df.Volume.str.replace(',','')\n",
    "df.Volume = pd.to_numeric(df.Volume,errors='coerce')"
   ]
  },
  {
   "cell_type": "code",
   "execution_count": 68,
   "metadata": {},
   "outputs": [
    {
     "name": "stdout",
     "output_type": "stream",
     "text": [
      "           date     open     high      low    close  adj_close       volume\n",
      "0    2017-01-03  15366.8  15450.3  15340.0  15403.0    15403.0  201117500.0\n",
      "1    2017-01-04  15433.9  15520.6  15412.5  15516.8    15516.8  215081200.0\n",
      "2    2017-01-05  15542.1  15621.4  15537.4  15586.6    15586.6  247712500.0\n",
      "3    2017-01-06  15562.5  15562.9  15477.3  15496.1    15496.1  198912100.0\n",
      "4    2017-01-09  15475.5  15475.5  15382.0  15389.0    15389.0  186465200.0\n",
      "...         ...      ...      ...      ...      ...        ...          ...\n",
      "1772 2024-01-25  21058.8  21120.7  21021.8  21101.5    21101.5  177381800.0\n",
      "1773 2024-01-26  21085.0  21142.3  21079.9  21125.3    21125.3  150909700.0\n",
      "1774 2024-01-29  21106.4  21213.0  21015.0  21200.1    21200.1  188328800.0\n",
      "1775 2024-01-30  21187.9  21250.5  21104.0  21227.9    21227.9  167593100.0\n",
      "1776 2024-01-31  21204.9  21250.9  21014.2  21021.9    21021.9  222241000.0\n",
      "\n",
      "[1775 rows x 7 columns]\n"
     ]
    }
   ],
   "source": [
    "df.columns = df.columns.str.lower()\n",
    "df.columns = df.columns.str.replace(' ','_')\n",
    "df = df.dropna()\n"
   ]
  }
 ],
 "metadata": {
  "kernelspec": {
   "display_name": "base",
   "language": "python",
   "name": "python3"
  },
  "language_info": {
   "codemirror_mode": {
    "name": "ipython",
    "version": 3
   },
   "file_extension": ".py",
   "mimetype": "text/x-python",
   "name": "python",
   "nbconvert_exporter": "python",
   "pygments_lexer": "ipython3",
   "version": "3.10.9"
  }
 },
 "nbformat": 4,
 "nbformat_minor": 2
}
