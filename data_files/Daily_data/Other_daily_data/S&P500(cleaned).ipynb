{
 "cells": [
  {
   "cell_type": "code",
   "execution_count": 51,
   "metadata": {},
   "outputs": [
    {
     "data": {
      "text/html": [
       "<div>\n",
       "<style scoped>\n",
       "    .dataframe tbody tr th:only-of-type {\n",
       "        vertical-align: middle;\n",
       "    }\n",
       "\n",
       "    .dataframe tbody tr th {\n",
       "        vertical-align: top;\n",
       "    }\n",
       "\n",
       "    .dataframe thead th {\n",
       "        text-align: right;\n",
       "    }\n",
       "</style>\n",
       "<table border=\"1\" class=\"dataframe\">\n",
       "  <thead>\n",
       "    <tr style=\"text-align: right;\">\n",
       "      <th></th>\n",
       "      <th>Date</th>\n",
       "      <th>Open</th>\n",
       "      <th>High</th>\n",
       "      <th>Low</th>\n",
       "      <th>Close*</th>\n",
       "      <th>Adj Close**</th>\n",
       "      <th>Volume</th>\n",
       "    </tr>\n",
       "  </thead>\n",
       "  <tbody>\n",
       "    <tr>\n",
       "      <th>0</th>\n",
       "      <td>3-Jan-17</td>\n",
       "      <td>2,251.57</td>\n",
       "      <td>2,263.88</td>\n",
       "      <td>2,245.13</td>\n",
       "      <td>2,257.83</td>\n",
       "      <td>2,257.83</td>\n",
       "      <td>3,773,010,000</td>\n",
       "    </tr>\n",
       "    <tr>\n",
       "      <th>1</th>\n",
       "      <td>4-Jan-17</td>\n",
       "      <td>2,261.60</td>\n",
       "      <td>2,272.82</td>\n",
       "      <td>2,261.60</td>\n",
       "      <td>2,270.75</td>\n",
       "      <td>2,270.75</td>\n",
       "      <td>3,768,890,000</td>\n",
       "    </tr>\n",
       "    <tr>\n",
       "      <th>2</th>\n",
       "      <td>5-Jan-17</td>\n",
       "      <td>2,268.18</td>\n",
       "      <td>2,271.50</td>\n",
       "      <td>2,260.45</td>\n",
       "      <td>2,269.00</td>\n",
       "      <td>2,269.00</td>\n",
       "      <td>3,785,080,000</td>\n",
       "    </tr>\n",
       "    <tr>\n",
       "      <th>3</th>\n",
       "      <td>6-Jan-17</td>\n",
       "      <td>2,271.14</td>\n",
       "      <td>2,282.10</td>\n",
       "      <td>2,264.06</td>\n",
       "      <td>2,276.98</td>\n",
       "      <td>2,276.98</td>\n",
       "      <td>3,342,080,000</td>\n",
       "    </tr>\n",
       "    <tr>\n",
       "      <th>4</th>\n",
       "      <td>9-Jan-17</td>\n",
       "      <td>2,273.59</td>\n",
       "      <td>2,275.49</td>\n",
       "      <td>2,268.90</td>\n",
       "      <td>2,268.90</td>\n",
       "      <td>2,268.90</td>\n",
       "      <td>3,219,730,000</td>\n",
       "    </tr>\n",
       "  </tbody>\n",
       "</table>\n",
       "</div>"
      ],
      "text/plain": [
       "       Date      Open      High       Low    Close* Adj Close**         Volume\n",
       "0  3-Jan-17  2,251.57  2,263.88  2,245.13  2,257.83    2,257.83  3,773,010,000\n",
       "1  4-Jan-17  2,261.60  2,272.82  2,261.60  2,270.75    2,270.75  3,768,890,000\n",
       "2  5-Jan-17  2,268.18  2,271.50  2,260.45  2,269.00    2,269.00  3,785,080,000\n",
       "3  6-Jan-17  2,271.14  2,282.10  2,264.06  2,276.98    2,276.98  3,342,080,000\n",
       "4  9-Jan-17  2,273.59  2,275.49  2,268.90  2,268.90    2,268.90  3,219,730,000"
      ]
     },
     "execution_count": 51,
     "metadata": {},
     "output_type": "execute_result"
    }
   ],
   "source": [
    "import pandas as pd\n",
    "df = pd.read_csv('S&P 500 Daily Data.csv')\n",
    "df.head()"
   ]
  },
  {
   "cell_type": "code",
   "execution_count": 52,
   "metadata": {},
   "outputs": [],
   "source": [
    "df.Date = pd.to_datetime(df.Date)\n",
    "df.Open = df.Open.str.replace(',','').astype('float')\n",
    "df.High = df.High.str.replace(',','').astype('float')\n",
    "df.Low = df.Low.str.replace(',','').astype('float')\n",
    "df['Close*'] = df['Close*'].str.replace(',','').astype('float')\n",
    "df['Adj Close**'] = df['Adj Close**'].str.replace(',','').astype('float')\n",
    "df.Volume = df.Volume.str.replace(',','').astype('float')\n",
    "\n",
    "df.columns = df.columns.str.lower()\n",
    "df.columns = df.columns.str.replace(' ','_')\n",
    "df = df.dropna()"
   ]
  },
  {
   "cell_type": "code",
   "execution_count": 53,
   "metadata": {},
   "outputs": [
    {
     "name": "stdout",
     "output_type": "stream",
     "text": [
      "           date     open     high      low   close*  adj_close**        volume\n",
      "0    2017-01-03  2251.57  2263.88  2245.13  2257.83      2257.83  3.773010e+09\n",
      "1    2017-01-04  2261.60  2272.82  2261.60  2270.75      2270.75  3.768890e+09\n",
      "2    2017-01-05  2268.18  2271.50  2260.45  2269.00      2269.00  3.785080e+09\n",
      "3    2017-01-06  2271.14  2282.10  2264.06  2276.98      2276.98  3.342080e+09\n",
      "4    2017-01-09  2273.59  2275.49  2268.90  2268.90      2268.90  3.219730e+09\n",
      "...         ...      ...      ...      ...      ...          ...           ...\n",
      "1776 2024-01-25  4886.66  4898.15  4869.34  4894.16      4894.16  4.020430e+09\n",
      "1777 2024-01-26  4888.91  4906.69  4881.47  4890.97      4890.97  3.353400e+09\n",
      "1778 2024-01-29  4892.95  4929.31  4887.40  4927.93      4927.93  3.525160e+09\n",
      "1779 2024-01-30  4925.89  4931.09  4916.27  4924.97      4924.97  3.836130e+09\n",
      "1780 2024-01-31  4899.19  4906.75  4845.15  4845.65      4845.65  4.696120e+09\n",
      "\n",
      "[1781 rows x 7 columns]\n"
     ]
    }
   ],
   "source": [
    "print(df)"
   ]
  }
 ],
 "metadata": {
  "kernelspec": {
   "display_name": "base",
   "language": "python",
   "name": "python3"
  },
  "language_info": {
   "codemirror_mode": {
    "name": "ipython",
    "version": 3
   },
   "file_extension": ".py",
   "mimetype": "text/x-python",
   "name": "python",
   "nbconvert_exporter": "python",
   "pygments_lexer": "ipython3",
   "version": "3.10.9"
  }
 },
 "nbformat": 4,
 "nbformat_minor": 2
}
