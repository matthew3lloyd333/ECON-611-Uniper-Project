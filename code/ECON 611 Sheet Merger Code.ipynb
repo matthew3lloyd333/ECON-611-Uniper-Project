{
 "cells": [
  {
   "cell_type": "code",
   "execution_count": null,
   "id": "72f96766",
   "metadata": {},
   "outputs": [],
   "source": [
    "import pandas as pd\n",
    "\n",
    "# Specify the Excel file path\n",
    "excel_file = r'C:\\Users\\ChrisChow\\OneDrive\\Desktop\\New folder\\2023-NGTL-System-Receipts-and-Deliveries.xlsx'\n",
    "\n",
    "# Read all sheets from the Excel file into a dictionary of DataFrames\n",
    "sheets = pd.read_excel(excel_file, sheet_name=None)\n",
    "\n",
    "# Concatenate all sheets into a single DataFrame\n",
    "merged_data = pd.concat(sheets.values(), ignore_index=True)\n",
    "\n",
    "# Save the merged data to a new Excel file or perform further analysis\n",
    "merged_data.to_excel('2023-NGTL-System-Receipts-and-Deliveries.xlsx', index=False)"
   ]
  }
 ],
 "metadata": {
  "kernelspec": {
   "display_name": "Python 3 (ipykernel)",
   "language": "python",
   "name": "python3"
  },
  "language_info": {
   "codemirror_mode": {
    "name": "ipython",
    "version": 3
   },
   "file_extension": ".py",
   "mimetype": "text/x-python",
   "name": "python",
   "nbconvert_exporter": "python",
   "pygments_lexer": "ipython3",
   "version": "3.7.9"
  }
 },
 "nbformat": 4,
 "nbformat_minor": 5
}
