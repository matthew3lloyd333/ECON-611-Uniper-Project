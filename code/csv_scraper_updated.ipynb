{
 "cells": [
  {
   "cell_type": "code",
   "execution_count": 6,
   "id": "4336de87-48ef-409d-a5c8-1179b02ab9fa",
   "metadata": {},
   "outputs": [],
   "source": [
    "#CSV Scraper for US and Canada weather \n",
    "\n",
    "import os\n",
    "import pandas as pd\n",
    "\n",
    "#Set the path to the folder containing the CSV files\n",
    "path = r\"C:/Users/zhaoy/Documents/ECON_611_Uniper_Project/ECON-611-Uniper-Project/data/CA_weather_data/All_CA_weather_data\"\n",
    "\n",
    "# Get a list of all the CSV files in the folder\n",
    "csv_files = [os.path.join(path, f) for f in os.listdir(path) if f.endswith('.csv')]\n",
    "\n",
    "# Initialize an empty DataFrame to store the combined data\n",
    "combined_df = pd.DataFrame()\n",
    "\n",
    "# Loop through all CSV files and append them to the combined DataFrame\n",
    "for file in csv_files:\n",
    "    df_new = pd.read_csv(file)\n",
    "    combined_df = pd.concat([combined_df, df_new], axis=0, ignore_index=True)\n",
    "\n",
    "# Write the combined DataFrame to a new CSV file, not overwriting the original files\n",
    "output_path = os.path.join(path, 'combined_ca_weather.csv')\n",
    "combined_df.to_csv(output_path, index=False)"
   ]
  },
  {
   "cell_type": "code",
   "execution_count": null,
   "id": "81f3e637-4bcf-4519-8bbf-eff36d9b522e",
   "metadata": {},
   "outputs": [],
   "source": [
    "\"C:\\Users\\zhaoy\\Documents\\ECON_611_Uniper_Project\\ECON-611-Uniper-Project\\data\\Yidan_US_weather_data.zip\""
   ]
  }
 ],
 "metadata": {
  "kernelspec": {
   "display_name": "Python 3 (ipykernel)",
   "language": "python",
   "name": "python3"
  },
  "language_info": {
   "codemirror_mode": {
    "name": "ipython",
    "version": 3
   },
   "file_extension": ".py",
   "mimetype": "text/x-python",
   "name": "python",
   "nbconvert_exporter": "python",
   "pygments_lexer": "ipython3",
   "version": "3.8.18"
  }
 },
 "nbformat": 4,
 "nbformat_minor": 5
}
